{
 "cells": [
  {
   "cell_type": "code",
   "execution_count": 86,
   "id": "813dadee-fef8-4256-a57a-c0af062ed3fa",
   "metadata": {},
   "outputs": [],
   "source": [
    "import pandas as pd\n",
    "import numpy as np\n",
    "from sklearn.impute import SimpleImputer\n",
    "from sklearn.preprocessing import OneHotEncoder, OrdinalEncoder, StandardScaler, MinMaxScaler, FunctionTransformer\n",
    "from sklearn.compose import ColumnTransformer\n",
    "from sklearn.pipeline import make_pipeline, Pipeline\n",
    "from sklearn.model_selection import train_test_split, PredefinedSplit, GridSearchCV\n",
    "from sklearn.neighbors import KNeighborsClassifier\n",
    "from sklearn.metrics import accuracy_score\n",
    "import matplotlib.pyplot as plt"
   ]
  },
  {
   "cell_type": "code",
   "execution_count": 20,
   "id": "d1288797-1e67-4f30-a675-abad7d588195",
   "metadata": {},
   "outputs": [
    {
     "data": {
      "text/html": [
       "<div>\n",
       "<style scoped>\n",
       "    .dataframe tbody tr th:only-of-type {\n",
       "        vertical-align: middle;\n",
       "    }\n",
       "\n",
       "    .dataframe tbody tr th {\n",
       "        vertical-align: top;\n",
       "    }\n",
       "\n",
       "    .dataframe thead th {\n",
       "        text-align: right;\n",
       "    }\n",
       "</style>\n",
       "<table border=\"1\" class=\"dataframe\">\n",
       "  <thead>\n",
       "    <tr style=\"text-align: right;\">\n",
       "      <th></th>\n",
       "      <th>PassengerId</th>\n",
       "      <th>Pclass</th>\n",
       "      <th>Name</th>\n",
       "      <th>Sex</th>\n",
       "      <th>Age</th>\n",
       "      <th>SibSp</th>\n",
       "      <th>Parch</th>\n",
       "      <th>Ticket</th>\n",
       "      <th>Fare</th>\n",
       "      <th>Cabin</th>\n",
       "      <th>Embarked</th>\n",
       "      <th>Survived</th>\n",
       "    </tr>\n",
       "  </thead>\n",
       "  <tbody>\n",
       "    <tr>\n",
       "      <th>103</th>\n",
       "      <td>104</td>\n",
       "      <td>3</td>\n",
       "      <td>Johansson, Mr. Gustaf Joel</td>\n",
       "      <td>male</td>\n",
       "      <td>33.0</td>\n",
       "      <td>0</td>\n",
       "      <td>0</td>\n",
       "      <td>7540</td>\n",
       "      <td>8.6542</td>\n",
       "      <td>NaN</td>\n",
       "      <td>S</td>\n",
       "      <td>0</td>\n",
       "    </tr>\n",
       "    <tr>\n",
       "      <th>349</th>\n",
       "      <td>350</td>\n",
       "      <td>3</td>\n",
       "      <td>Dimic, Mr. Jovan</td>\n",
       "      <td>male</td>\n",
       "      <td>42.0</td>\n",
       "      <td>0</td>\n",
       "      <td>0</td>\n",
       "      <td>315088</td>\n",
       "      <td>8.6625</td>\n",
       "      <td>NaN</td>\n",
       "      <td>S</td>\n",
       "      <td>0</td>\n",
       "    </tr>\n",
       "    <tr>\n",
       "      <th>7</th>\n",
       "      <td>8</td>\n",
       "      <td>3</td>\n",
       "      <td>Palsson, Master. Gosta Leonard</td>\n",
       "      <td>male</td>\n",
       "      <td>2.0</td>\n",
       "      <td>3</td>\n",
       "      <td>1</td>\n",
       "      <td>349909</td>\n",
       "      <td>21.0750</td>\n",
       "      <td>NaN</td>\n",
       "      <td>S</td>\n",
       "      <td>0</td>\n",
       "    </tr>\n",
       "    <tr>\n",
       "      <th>345</th>\n",
       "      <td>346</td>\n",
       "      <td>2</td>\n",
       "      <td>Brown, Miss. Amelia \"Mildred\"</td>\n",
       "      <td>female</td>\n",
       "      <td>24.0</td>\n",
       "      <td>0</td>\n",
       "      <td>0</td>\n",
       "      <td>248733</td>\n",
       "      <td>13.0000</td>\n",
       "      <td>F33</td>\n",
       "      <td>S</td>\n",
       "      <td>1</td>\n",
       "    </tr>\n",
       "    <tr>\n",
       "      <th>652</th>\n",
       "      <td>653</td>\n",
       "      <td>3</td>\n",
       "      <td>Kalvik, Mr. Johannes Halvorsen</td>\n",
       "      <td>male</td>\n",
       "      <td>21.0</td>\n",
       "      <td>0</td>\n",
       "      <td>0</td>\n",
       "      <td>8475</td>\n",
       "      <td>8.4333</td>\n",
       "      <td>NaN</td>\n",
       "      <td>S</td>\n",
       "      <td>0</td>\n",
       "    </tr>\n",
       "  </tbody>\n",
       "</table>\n",
       "</div>"
      ],
      "text/plain": [
       "     PassengerId  Pclass                            Name     Sex   Age  SibSp  \\\n",
       "103          104       3      Johansson, Mr. Gustaf Joel    male  33.0      0   \n",
       "349          350       3                Dimic, Mr. Jovan    male  42.0      0   \n",
       "7              8       3  Palsson, Master. Gosta Leonard    male   2.0      3   \n",
       "345          346       2   Brown, Miss. Amelia \"Mildred\"  female  24.0      0   \n",
       "652          653       3  Kalvik, Mr. Johannes Halvorsen    male  21.0      0   \n",
       "\n",
       "     Parch  Ticket     Fare Cabin Embarked  Survived  \n",
       "103      0    7540   8.6542   NaN        S         0  \n",
       "349      0  315088   8.6625   NaN        S         0  \n",
       "7        1  349909  21.0750   NaN        S         0  \n",
       "345      0  248733  13.0000   F33        S         1  \n",
       "652      0    8475   8.4333   NaN        S         0  "
      ]
     },
     "execution_count": 20,
     "metadata": {},
     "output_type": "execute_result"
    }
   ],
   "source": [
    "train_data = pd.read_pickle(\"./train.pkl\")\n",
    "val_data = pd.read_pickle(\"./val.pkl\")\n",
    "train_data.head()"
   ]
  },
  {
   "cell_type": "code",
   "execution_count": 21,
   "id": "2a1b7b9c-e748-4804-97a7-5bd6823f5f1c",
   "metadata": {},
   "outputs": [],
   "source": [
    "def split_data(data):\n",
    "    X = data.drop(\"Survived\", axis=1)\n",
    "    y = data.loc[:,[\"Survived\"]]\n",
    "\n",
    "    return([X,y])"
   ]
  },
  {
   "cell_type": "code",
   "execution_count": 22,
   "id": "a2d992c6-781d-49ff-9f77-938de78531fe",
   "metadata": {},
   "outputs": [],
   "source": [
    "def test_model(preprocessing_pipeline, train_data, val_data):\n",
    "    model_pipeline = Pipeline([(\"preprocessing\",preprocessing_pipeline), (\"KNN\",KNeighborsClassifier())])\n",
    "\n",
    "    X_train, y_train = split_data(train_data)\n",
    "    X_val, y_val = split_data(val_data)\n",
    "\n",
    "    X_combined = pd.concat([X_train,X_val])\n",
    "    y_combined = pd.concat([y_train,y_val])\n",
    "\n",
    "    test_fold = np.array([-1]*X_train.shape[0] + [0]*X_val.shape[0])\n",
    "    ps = PredefinedSplit(test_fold)\n",
    "    \n",
    "    param_grid = [{\"KNN__n_neighbors\":[1,3,5,7,10], \"KNN__weights\":(\"uniform\",\"distance\")}]\n",
    "\n",
    "    clf = GridSearchCV(model_pipeline,\n",
    "            param_grid,\n",
    "            cv=ps,\n",
    "            scoring=\"accuracy\",\n",
    "            n_jobs=-1,\n",
    "            verbose=1,\n",
    "            refit=True)\n",
    "\n",
    "    clf.fit(X_combined, y_combined.to_numpy().ravel())\n",
    "    \n",
    "    cv_results = pd.DataFrame(clf.cv_results_)\n",
    "    cv_test_score = max(cv_results[\"mean_test_score\"])\n",
    "    print(cv_test_score*100)\n",
    "    \n",
    "    return(clf,cv_test_score*100)"
   ]
  },
  {
   "cell_type": "code",
   "execution_count": 23,
   "id": "7fbaba87-b5da-48ac-874d-bae78e3b0f68",
   "metadata": {},
   "outputs": [
    {
     "name": "stdout",
     "output_type": "stream",
     "text": [
      "Fitting 1 folds for each of 10 candidates, totalling 10 fits\n",
      "82.0\n"
     ]
    }
   ],
   "source": [
    "sex_pipeline = make_pipeline(OrdinalEncoder(handle_unknown='error'))\n",
    "age_pipeline = make_pipeline(SimpleImputer(),StandardScaler())\n",
    "fare_pipeline = make_pipeline(SimpleImputer(),MinMaxScaler())\n",
    "loc_pipeline = make_pipeline(SimpleImputer(strategy=\"most_frequent\"),OneHotEncoder(handle_unknown=\"ignore\"))\n",
    "\n",
    "preprocessing = ColumnTransformer(\n",
    "                transformers = [\n",
    "                    (\"sex\", sex_pipeline, [\"Sex\"]),\n",
    "                    (\"pass\", \"passthrough\", [\"Pclass\"]),\n",
    "                    (\"age\", age_pipeline, [\"Age\"]),\n",
    "                    (\"fare\", fare_pipeline, [\"Fare\"]),\n",
    "                    (\"loc\", loc_pipeline, [\"Embarked\"])\n",
    "                ],\n",
    "                remainder = \"drop\"\n",
    ")\n",
    "\n",
    "clf, acc = test_model(preprocessing, train_data, val_data)"
   ]
  },
  {
   "cell_type": "code",
   "execution_count": 41,
   "id": "f51b43ff-d9cb-4faa-95e6-54cb1810b824",
   "metadata": {},
   "outputs": [],
   "source": [
    "cabin_transformer = FunctionTransformer(lambda x : x.isna())"
   ]
  },
  {
   "cell_type": "code",
   "execution_count": 73,
   "id": "090c96db-f55c-4de6-a686-7d8116ba8e81",
   "metadata": {},
   "outputs": [
    {
     "name": "stdout",
     "output_type": "stream",
     "text": [
      "Fitting 1 folds for each of 10 candidates, totalling 10 fits\n",
      "83.0\n"
     ]
    }
   ],
   "source": [
    "sex_pipeline = make_pipeline(OrdinalEncoder(handle_unknown='error'))\n",
    "age_pipeline = make_pipeline(SimpleImputer(),StandardScaler())\n",
    "fare_pipeline = make_pipeline(SimpleImputer(),MinMaxScaler())\n",
    "loc_pipeline = make_pipeline(SimpleImputer(strategy=\"most_frequent\"),OneHotEncoder(handle_unknown=\"ignore\"))\n",
    "cabin_pipeline = make_pipeline(cabin_transformer)\n",
    "\n",
    "preprocessing = ColumnTransformer(\n",
    "                transformers = [\n",
    "                    (\"sex\", sex_pipeline, [\"Sex\"]),\n",
    "                    (\"pass\", \"passthrough\", [\"Pclass\"]),\n",
    "                    (\"age\", age_pipeline, [\"Age\"]),\n",
    "                    (\"fare\", fare_pipeline, [\"Fare\"]),\n",
    "                    #(\"loc\", loc_pipeline, [\"Embarked\"]),\n",
    "                    #(\"cabin\", cabin_pipeline, [\"Cabin\"])\n",
    "                ],\n",
    "                remainder = \"drop\"\n",
    ")\n",
    "\n",
    "clf, acc = test_model(preprocessing, train_data, val_data)"
   ]
  },
  {
   "cell_type": "code",
   "execution_count": 74,
   "id": "3e915503-5580-4586-89d9-1f8fd3f8e2db",
   "metadata": {},
   "outputs": [],
   "source": [
    "def model_predict(test_path,model):\n",
    "    test_data = pd.read_csv(test_path)\n",
    "    preds = model.predict(test_data)\n",
    "    \n",
    "    preds = pd.DataFrame([[x,y] for x,y in zip(test_data[\"PassengerId\"],preds)], columns=[\"PassengerId\",\"Survived\"])\n",
    "    \n",
    "    return(preds)"
   ]
  },
  {
   "cell_type": "code",
   "execution_count": 75,
   "id": "eb0e98eb-db12-4cc3-9eed-3fd6d700b32d",
   "metadata": {},
   "outputs": [],
   "source": [
    "knn_preds = model_predict(\"../datasets/test.csv\",clf)\n",
    "knn_preds.to_csv(\"../knn_test_pred.csv\", index=False)"
   ]
  },
  {
   "cell_type": "markdown",
   "id": "382d8e46-441a-475f-9d6e-63728e744115",
   "metadata": {},
   "source": [
    "# CV Training"
   ]
  },
  {
   "cell_type": "code",
   "execution_count": 78,
   "id": "1cbe1a18-57aa-4db2-a283-d79bd4b96aa5",
   "metadata": {},
   "outputs": [
    {
     "data": {
      "text/html": [
       "<div>\n",
       "<style scoped>\n",
       "    .dataframe tbody tr th:only-of-type {\n",
       "        vertical-align: middle;\n",
       "    }\n",
       "\n",
       "    .dataframe tbody tr th {\n",
       "        vertical-align: top;\n",
       "    }\n",
       "\n",
       "    .dataframe thead th {\n",
       "        text-align: right;\n",
       "    }\n",
       "</style>\n",
       "<table border=\"1\" class=\"dataframe\">\n",
       "  <thead>\n",
       "    <tr style=\"text-align: right;\">\n",
       "      <th></th>\n",
       "      <th>PassengerId</th>\n",
       "      <th>Survived</th>\n",
       "      <th>Pclass</th>\n",
       "      <th>Name</th>\n",
       "      <th>Sex</th>\n",
       "      <th>Age</th>\n",
       "      <th>SibSp</th>\n",
       "      <th>Parch</th>\n",
       "      <th>Ticket</th>\n",
       "      <th>Fare</th>\n",
       "      <th>Cabin</th>\n",
       "      <th>Embarked</th>\n",
       "    </tr>\n",
       "  </thead>\n",
       "  <tbody>\n",
       "    <tr>\n",
       "      <th>0</th>\n",
       "      <td>1</td>\n",
       "      <td>0</td>\n",
       "      <td>3</td>\n",
       "      <td>Braund, Mr. Owen Harris</td>\n",
       "      <td>male</td>\n",
       "      <td>22.0</td>\n",
       "      <td>1</td>\n",
       "      <td>0</td>\n",
       "      <td>A/5 21171</td>\n",
       "      <td>7.2500</td>\n",
       "      <td>NaN</td>\n",
       "      <td>S</td>\n",
       "    </tr>\n",
       "    <tr>\n",
       "      <th>1</th>\n",
       "      <td>2</td>\n",
       "      <td>1</td>\n",
       "      <td>1</td>\n",
       "      <td>Cumings, Mrs. John Bradley (Florence Briggs Th...</td>\n",
       "      <td>female</td>\n",
       "      <td>38.0</td>\n",
       "      <td>1</td>\n",
       "      <td>0</td>\n",
       "      <td>PC 17599</td>\n",
       "      <td>71.2833</td>\n",
       "      <td>C85</td>\n",
       "      <td>C</td>\n",
       "    </tr>\n",
       "    <tr>\n",
       "      <th>2</th>\n",
       "      <td>3</td>\n",
       "      <td>1</td>\n",
       "      <td>3</td>\n",
       "      <td>Heikkinen, Miss. Laina</td>\n",
       "      <td>female</td>\n",
       "      <td>26.0</td>\n",
       "      <td>0</td>\n",
       "      <td>0</td>\n",
       "      <td>STON/O2. 3101282</td>\n",
       "      <td>7.9250</td>\n",
       "      <td>NaN</td>\n",
       "      <td>S</td>\n",
       "    </tr>\n",
       "    <tr>\n",
       "      <th>3</th>\n",
       "      <td>4</td>\n",
       "      <td>1</td>\n",
       "      <td>1</td>\n",
       "      <td>Futrelle, Mrs. Jacques Heath (Lily May Peel)</td>\n",
       "      <td>female</td>\n",
       "      <td>35.0</td>\n",
       "      <td>1</td>\n",
       "      <td>0</td>\n",
       "      <td>113803</td>\n",
       "      <td>53.1000</td>\n",
       "      <td>C123</td>\n",
       "      <td>S</td>\n",
       "    </tr>\n",
       "    <tr>\n",
       "      <th>4</th>\n",
       "      <td>5</td>\n",
       "      <td>0</td>\n",
       "      <td>3</td>\n",
       "      <td>Allen, Mr. William Henry</td>\n",
       "      <td>male</td>\n",
       "      <td>35.0</td>\n",
       "      <td>0</td>\n",
       "      <td>0</td>\n",
       "      <td>373450</td>\n",
       "      <td>8.0500</td>\n",
       "      <td>NaN</td>\n",
       "      <td>S</td>\n",
       "    </tr>\n",
       "  </tbody>\n",
       "</table>\n",
       "</div>"
      ],
      "text/plain": [
       "   PassengerId  Survived  Pclass  \\\n",
       "0            1         0       3   \n",
       "1            2         1       1   \n",
       "2            3         1       3   \n",
       "3            4         1       1   \n",
       "4            5         0       3   \n",
       "\n",
       "                                                Name     Sex   Age  SibSp  \\\n",
       "0                            Braund, Mr. Owen Harris    male  22.0      1   \n",
       "1  Cumings, Mrs. John Bradley (Florence Briggs Th...  female  38.0      1   \n",
       "2                             Heikkinen, Miss. Laina  female  26.0      0   \n",
       "3       Futrelle, Mrs. Jacques Heath (Lily May Peel)  female  35.0      1   \n",
       "4                           Allen, Mr. William Henry    male  35.0      0   \n",
       "\n",
       "   Parch            Ticket     Fare Cabin Embarked  \n",
       "0      0         A/5 21171   7.2500   NaN        S  \n",
       "1      0          PC 17599  71.2833   C85        C  \n",
       "2      0  STON/O2. 3101282   7.9250   NaN        S  \n",
       "3      0            113803  53.1000  C123        S  \n",
       "4      0            373450   8.0500   NaN        S  "
      ]
     },
     "execution_count": 78,
     "metadata": {},
     "output_type": "execute_result"
    }
   ],
   "source": [
    "train_data = pd.read_csv(\"../datasets/train.csv\")\n",
    "train_data.head()"
   ]
  },
  {
   "cell_type": "code",
   "execution_count": 79,
   "id": "5af7acb1-8b5e-4661-b9f4-15643a21c46e",
   "metadata": {},
   "outputs": [],
   "source": [
    "def split_data(data):\n",
    "    X = data.drop(\"Survived\", axis=1)\n",
    "    y = data.loc[:,[\"Survived\"]]\n",
    "\n",
    "    return([X,y])"
   ]
  },
  {
   "cell_type": "code",
   "execution_count": 80,
   "id": "f16e3f18-42c8-4a03-b019-312f2eeec8c7",
   "metadata": {},
   "outputs": [],
   "source": [
    "def test_model(preprocessing_pipeline, train_data, model,params):\n",
    "    model_pipeline = Pipeline([(\"preprocessing\",preprocessing_pipeline), (\"model\",model)])\n",
    "\n",
    "    clf = GridSearchCV(model_pipeline,\n",
    "            params,\n",
    "            cv=10,\n",
    "            scoring=\"accuracy\",\n",
    "            n_jobs=-1,\n",
    "            verbose=1,\n",
    "            refit=True)\n",
    "\n",
    "    X,y = split_data(train_data)\n",
    "    clf.fit(X, y.to_numpy().ravel())\n",
    "    \n",
    "    cv_results = pd.DataFrame(clf.cv_results_)\n",
    "    cv_test_score = max(cv_results[\"mean_test_score\"])\n",
    "    print(cv_test_score*100)\n",
    "    \n",
    "    return(clf,cv_test_score*100)"
   ]
  },
  {
   "cell_type": "code",
   "execution_count": 81,
   "id": "4b23192c-0c26-4490-9c13-d38be4319bb5",
   "metadata": {},
   "outputs": [],
   "source": [
    "cabin_transformer = FunctionTransformer(lambda x : x.isna())"
   ]
  },
  {
   "cell_type": "code",
   "execution_count": 88,
   "id": "f51b65d7-ce9f-491e-b2ca-7365d336acb6",
   "metadata": {},
   "outputs": [],
   "source": [
    "sex_pipeline = make_pipeline(OrdinalEncoder(handle_unknown='error'))\n",
    "age_pipeline = make_pipeline(SimpleImputer(),StandardScaler())\n",
    "fare_pipeline = make_pipeline(SimpleImputer(),MinMaxScaler())\n",
    "loc_pipeline = make_pipeline(SimpleImputer(strategy=\"most_frequent\"),OneHotEncoder(handle_unknown=\"ignore\"))\n",
    "cabin_pipeline = make_pipeline(cabin_transformer)\n",
    "\n",
    "preprocessing = ColumnTransformer(\n",
    "                transformers = [\n",
    "                    (\"sex\", sex_pipeline, [\"Sex\"]),\n",
    "                    (\"pass\", \"passthrough\", [\"Pclass\"]),\n",
    "                    (\"age\", age_pipeline, [\"Age\"]),\n",
    "                    (\"fare\", fare_pipeline, [\"Fare\"]),\n",
    "                    #(\"loc\", loc_pipeline, [\"Embarked\"]),\n",
    "                    #(\"cabin\", cabin_pipeline, [\"Cabin\"])\n",
    "                ],\n",
    "                remainder = \"drop\"\n",
    ")"
   ]
  },
  {
   "cell_type": "code",
   "execution_count": 89,
   "id": "80397660-4c1f-431b-8a12-1aebb6a0a997",
   "metadata": {},
   "outputs": [
    {
     "name": "stdout",
     "output_type": "stream",
     "text": [
      "Fitting 10 folds for each of 10 candidates, totalling 100 fits\n",
      "82.27465667915105\n"
     ]
    }
   ],
   "source": [
    "#KNN\n",
    "param_grid = [{\"model__n_neighbors\":[1,3,5,7,10], \"model__weights\":(\"uniform\",\"distance\")}]\n",
    "\n",
    "clf, acc = test_model(preprocessing, train_data, KNeighborsClassifier(), param_grid)"
   ]
  },
  {
   "cell_type": "code",
   "execution_count": 90,
   "id": "9bf24054-203d-4c68-8cbf-366d1437be45",
   "metadata": {},
   "outputs": [],
   "source": [
    "def plot_scores(clf):\n",
    "    res = pd.DataFrame(clf.cv_results_)\n",
    "    res = res.loc[res[\"rank_test_score\"]==1,:]\n",
    "\n",
    "    score_cols = [x for x in res.columns if (\"test_score\" in x and \"split\" in x)]\n",
    "    res = res.loc[:,score_cols]\n",
    "    KNN_score = res.to_numpy().squeeze()\n",
    "\n",
    "    plt.plot([1]*10, KNN_score, \".\")\n",
    "    plt.boxplot([KNN_score], vert=True, labels=['KNN'])\n",
    "    plt.title('Boxplot of Array Values (Matplotlib)')\n",
    "    plt.ylabel('Value')\n",
    "    plt.grid(axis='y', linestyle='--', alpha=0.7) # Add a grid for better readability\n",
    "    plt.show()"
   ]
  },
  {
   "cell_type": "code",
   "execution_count": 91,
   "id": "6f3fedb1-6973-48fd-a689-41402c9f2851",
   "metadata": {},
   "outputs": [
    {
     "name": "stderr",
     "output_type": "stream",
     "text": [
      "/var/folders/k5/qx7l6y390hd316r0yv70rlr00000gn/T/ipykernel_42187/652926003.py:10: MatplotlibDeprecationWarning: The 'labels' parameter of boxplot() has been renamed 'tick_labels' since Matplotlib 3.9; support for the old name will be dropped in 3.11.\n",
      "  plt.boxplot([KNN_score], vert=True, labels=['KNN'])\n"
     ]
    },
    {
     "data": {
      "image/png": "[encoded data removed]",
      "text/plain": [
       "<Figure size 640x480 with 1 Axes>"
      ]
     },
     "metadata": {},
     "output_type": "display_data"
    }
   ],
   "source": [
    "plot_scores(clf)"
   ]
  },
  {
   "cell_type": "markdown",
   "id": "2632fe91-7d4e-4938-8eff-8930b5097bdc",
   "metadata": {},
   "source": [
    "Variance across CV splits is very high. Likely causing test score to be low."
   ]
  }
 ],
 "metadata": {
  "kernelspec": {
   "display_name": "Python (jupyter_env)",
   "language": "python",
   "name": "jupyter_env"
  },
  "language_info": {
   "codemirror_mode": {
    "name": "ipython",
    "version": 3
   },
   "file_extension": ".py",
   "mimetype": "text/x-python",
   "name": "python",
   "nbconvert_exporter": "python",
   "pygments_lexer": "ipython3",
   "version": "3.13.3"
  }
 },
 "nbformat": 4,
 "nbformat_minor": 5
}
